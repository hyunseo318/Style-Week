{
  "cells": [
    {
      "cell_type": "markdown",
      "metadata": {
        "id": "view-in-github",
        "colab_type": "text"
      },
      "source": [
        "<a href=\"https://colab.research.google.com/github/hyunseo318/Style-Week/blob/main/epick_editor_recommendation.ipynb\" target=\"_parent\"><img src=\"https://colab.research.google.com/assets/colab-badge.svg\" alt=\"Open In Colab\"/></a>"
      ]
    },
    {
      "cell_type": "code",
      "execution_count": null,
      "metadata": {
        "colab": {
          "base_uri": "https://localhost:8080/"
        },
        "id": "EqPKVtUGt4x1",
        "outputId": "c466827d-32a3-4673-ecf0-231094b8ce1b"
      },
      "outputs": [
        {
          "output_type": "stream",
          "name": "stdout",
          "text": [
            "Mounted at /content/drive\n"
          ]
        }
      ],
      "source": [
        "from google.colab import drive\n",
        "drive.mount('/content/drive')"
      ]
    },
    {
      "cell_type": "code",
      "execution_count": null,
      "metadata": {
        "colab": {
          "base_uri": "https://localhost:8080/",
          "height": 537
        },
        "id": "S9LIJlr86QP8",
        "outputId": "39d12513-8ae8-451a-a394-74a0fd1d5f96"
      },
      "outputs": [
        {
          "output_type": "stream",
          "name": "stdout",
          "text": [
            "Looking in indexes: https://pypi.org/simple, https://us-python.pkg.dev/colab-wheels/public/simple/\n",
            "Looking in links: https://data.dgl.ai/wheels/repo.html\n",
            "Collecting dgl\n",
            "  Downloading https://data.dgl.ai/wheels/dgl-0.9.1.post1-cp38-cp38-manylinux1_x86_64.whl (4.9 MB)\n",
            "\u001b[K     |████████████████████████████████| 4.9 MB 6.7 MB/s \n",
            "\u001b[?25hRequirement already satisfied: numpy>=1.14.0 in /usr/local/lib/python3.8/dist-packages (from dgl) (1.21.6)\n",
            "Collecting psutil>=5.8.0\n",
            "  Downloading psutil-5.9.4-cp36-abi3-manylinux_2_12_x86_64.manylinux2010_x86_64.manylinux_2_17_x86_64.manylinux2014_x86_64.whl (280 kB)\n",
            "\u001b[K     |████████████████████████████████| 280 kB 4.1 MB/s \n",
            "\u001b[?25hRequirement already satisfied: networkx>=2.1 in /usr/local/lib/python3.8/dist-packages (from dgl) (2.8.8)\n",
            "Requirement already satisfied: tqdm in /usr/local/lib/python3.8/dist-packages (from dgl) (4.64.1)\n",
            "Requirement already satisfied: requests>=2.19.0 in /usr/local/lib/python3.8/dist-packages (from dgl) (2.23.0)\n",
            "Requirement already satisfied: scipy>=1.1.0 in /usr/local/lib/python3.8/dist-packages (from dgl) (1.7.3)\n",
            "Requirement already satisfied: certifi>=2017.4.17 in /usr/local/lib/python3.8/dist-packages (from requests>=2.19.0->dgl) (2022.9.24)\n",
            "Requirement already satisfied: idna<3,>=2.5 in /usr/local/lib/python3.8/dist-packages (from requests>=2.19.0->dgl) (2.10)\n",
            "Requirement already satisfied: urllib3!=1.25.0,!=1.25.1,<1.26,>=1.21.1 in /usr/local/lib/python3.8/dist-packages (from requests>=2.19.0->dgl) (1.24.3)\n",
            "Requirement already satisfied: chardet<4,>=3.0.2 in /usr/local/lib/python3.8/dist-packages (from requests>=2.19.0->dgl) (3.0.4)\n",
            "Installing collected packages: psutil, dgl\n",
            "  Attempting uninstall: psutil\n",
            "    Found existing installation: psutil 5.4.8\n",
            "    Uninstalling psutil-5.4.8:\n",
            "      Successfully uninstalled psutil-5.4.8\n",
            "Successfully installed dgl-0.9.1.post1 psutil-5.9.4\n"
          ]
        },
        {
          "output_type": "display_data",
          "data": {
            "application/vnd.colab-display-data+json": {
              "pip_warning": {
                "packages": [
                  "psutil"
                ]
              }
            }
          },
          "metadata": {}
        }
      ],
      "source": [
        "# install DGL in Colab\n",
        "!pip install dgl -f https://data.dgl.ai/wheels/repo.html"
      ]
    },
    {
      "cell_type": "code",
      "execution_count": null,
      "metadata": {
        "id": "xpIdykrC6Z1C",
        "colab": {
          "base_uri": "https://localhost:8080/"
        },
        "outputId": "8a74bf04-4bd7-410f-8b9b-18683fbdddbe"
      },
      "outputs": [
        {
          "output_type": "stream",
          "name": "stderr",
          "text": [
            "DGL backend not selected or invalid.  Assuming PyTorch for now.\n"
          ]
        },
        {
          "output_type": "stream",
          "name": "stdout",
          "text": [
            "Setting the default backend to \"pytorch\". You can change it in the ~/.dgl/config.json file or export the DGLBACKEND environment variable.  Valid options are: pytorch, mxnet, tensorflow (all lowercase)\n"
          ]
        }
      ],
      "source": [
        "import numpy as np\n",
        "import torch\n",
        "import torch.nn as nn\n",
        "import torch.nn.functional as F\n",
        "import itertools\n",
        "import numpy as np\n",
        "import scipy.sparse as sp\n",
        "import dgl\n",
        "import pandas as pd"
      ]
    },
    {
      "cell_type": "code",
      "execution_count": null,
      "metadata": {
        "id": "eoU_ElzDug-Y"
      },
      "outputs": [],
      "source": [
        "node_df = pd.read_csv('/content/drive/MyDrive/Style_Week/styleweek_epick_node.csv')\n",
        "edge_df = pd.read_csv('/content/drive/MyDrive/Style_Week/styleweek_epick_edge.csv')"
      ]
    },
    {
      "cell_type": "code",
      "execution_count": null,
      "metadata": {
        "id": "z6klqFnmJ6kH"
      },
      "outputs": [],
      "source": [
        "# node_df.drop_duplicates(subset=['profile_id'], keep='first', inplace=True)\n",
        "# node_df.reset_index(drop=True, inplace=True)\n",
        "# edge_df.drop_duplicates(keep='first', inplace=True)\n",
        "# edge_df.reset_index(drop=True, inplace=True)"
      ]
    },
    {
      "cell_type": "code",
      "execution_count": null,
      "metadata": {
        "id": "gozvx0Bxu14a"
      },
      "outputs": [],
      "source": [
        "node_to_idx = {}\n",
        "for idx, row in node_df.iterrows():\n",
        "  node_to_idx[row['profile_id']] = {\n",
        "      'idx': idx,\n",
        "      'user_account_id': row['user_account_id'],\n",
        "      'age': row['age']\n",
        "}"
      ]
    },
    {
      "cell_type": "code",
      "execution_count": null,
      "metadata": {
        "id": "bxWnVpVuu2cK"
      },
      "outputs": [],
      "source": [
        "idx_to_node = {}\n",
        "for idx, row in node_df.iterrows():\n",
        "  idx_to_node[idx] = {\n",
        "      'profile_id': row['profile_id'],\n",
        "      'user_account_id': row['user_account_id'],\n",
        "      'age': row['age']\n",
        "}"
      ]
    },
    {
      "cell_type": "code",
      "execution_count": null,
      "metadata": {
        "id": "TBuYqZEg4exz"
      },
      "outputs": [],
      "source": [
        "age_onehot = {\n",
        "    0: '1 0 0 0 0 0 0',\n",
        "    10: '0 1 0 0 0 0 0',\n",
        "    20: '0 0 1 0 0 0 0',\n",
        "    30: '0 0 0 1 0 0 0',\n",
        "    40: '0 0 0 0 1 0 0',\n",
        "    50: '0 0 0 0 0 1 0',\n",
        "    60: '0 0 0 0 0 0 1'\n",
        "}"
      ]
    },
    {
      "cell_type": "code",
      "execution_count": null,
      "metadata": {
        "id": "-Sg-fQyd2WL9"
      },
      "outputs": [],
      "source": [
        "profile_id = []\n",
        "age = []\n",
        "for idx, row in node_df.iterrows():\n",
        "  profile_id.append(node_to_idx[row['profile_id']]['idx'])\n",
        "  age.append(age_onehot[row['age']])"
      ]
    },
    {
      "cell_type": "code",
      "execution_count": null,
      "metadata": {
        "id": "jl06v0025rrp"
      },
      "outputs": [],
      "source": [
        "node_list = [profile_id, age]\n",
        "\n",
        "le_node_df = pd.DataFrame (node_list).transpose()\n",
        "le_node_df.columns = ['profile_id', 'age']"
      ]
    },
    {
      "cell_type": "code",
      "execution_count": null,
      "metadata": {
        "id": "OtoFI0SKxSJO"
      },
      "outputs": [],
      "source": [
        "from_profile_id = []\n",
        "to_profile_id = []\n",
        "for idx, row in edge_df.iterrows():\n",
        "  from_profile_id.append(node_to_idx[row['from_profile_id']]['idx'])\n",
        "  to_profile_id.append(node_to_idx[row['to_profile_id']]['idx'])"
      ]
    },
    {
      "cell_type": "code",
      "execution_count": null,
      "metadata": {
        "id": "JeY3lB-Tz7Ue"
      },
      "outputs": [],
      "source": [
        "edge_list = [from_profile_id, to_profile_id]\n",
        "\n",
        "le_edge_df = pd.DataFrame (edge_list).transpose()\n",
        "le_edge_df.columns = ['from_profile_id', 'to_profile_id']"
      ]
    },
    {
      "cell_type": "code",
      "execution_count": null,
      "metadata": {
        "id": "W2WmwKdt7KkZ"
      },
      "outputs": [],
      "source": [
        "le_edge_df.to_csv('/content/drive/MyDrive/Style_Week/le_edge.csv', index=False, header=None)\n",
        "le_node_df.to_csv('/content/drive/MyDrive/Style_Week/le_node.csv', index=False, header=None)"
      ]
    },
    {
      "cell_type": "code",
      "execution_count": null,
      "metadata": {
        "id": "_k2uVUg6J6kH"
      },
      "outputs": [],
      "source": [
        "live_editor = {}\n",
        "with open('/content/drive/MyDrive/Style_Week/styleweek_live_editor.csv') as f:  # load edges file\n",
        "    for idx, line in enumerate(f):\n",
        "        if idx == 0:\n",
        "            continue\n",
        "        row = line.split(',')\n",
        "        live_editor[int(row[0])] = int(row[1].replace('\\n', ''))"
      ]
    },
    {
      "cell_type": "code",
      "execution_count": null,
      "metadata": {
        "id": "YXfBmAIY63TQ"
      },
      "outputs": [],
      "source": [
        "u, v = [], []\n",
        "\n",
        "with open('/content/drive/MyDrive/Style_Week/le_edge.csv') as f:  # load edges file\n",
        "    for line in f:\n",
        "        e1, e2 = tuple(int(x) for x in line.split(','))\n",
        "        u.append(e1)\n",
        "        v.append(e2)\n",
        "\n",
        "u, v = np.array(u), np.array(v)"
      ]
    },
    {
      "cell_type": "code",
      "execution_count": null,
      "metadata": {
        "id": "Xic2mNiE8rvJ"
      },
      "outputs": [],
      "source": [
        "num_nodes = 0  # assumes nodes are sequential\n",
        "feats = []  # node features\n",
        "\n",
        "with open('/content/drive/MyDrive/Style_Week/le_node.csv') as f:  # load node features file\n",
        "    for line in f:\n",
        "      num_nodes += 1\n",
        "      onehot = line[:-1].split(',')[1].split()\n",
        "      onehot = list(map(int, onehot))\n",
        "      feats.append(torch.tensor(onehot, dtype=torch.float))\n",
        "\n",
        "feats = torch.stack(feats)\n",
        "\n",
        "g = dgl.graph((u, v))  # construct graph\n",
        "g.ndata['feat'] = feats"
      ]
    },
    {
      "cell_type": "code",
      "execution_count": null,
      "metadata": {
        "colab": {
          "base_uri": "https://localhost:8080/"
        },
        "id": "_Lfcaq0y_2_i",
        "outputId": "7142d6ca-105f-4451-8122-f61de186387d"
      },
      "outputs": [
        {
          "output_type": "execute_result",
          "data": {
            "text/plain": [
              "Graph(num_nodes=12683, num_edges=74120,\n",
              "      ndata_schemes={'feat': Scheme(shape=(7,), dtype=torch.float32)}\n",
              "      edata_schemes={})"
            ]
          },
          "metadata": {},
          "execution_count": 17
        }
      ],
      "source": [
        "g"
      ]
    },
    {
      "cell_type": "code",
      "source": [
        "!pip install networkx"
      ],
      "metadata": {
        "colab": {
          "base_uri": "https://localhost:8080/"
        },
        "id": "g8R_QYrNTxdK",
        "outputId": "82db9563-6d21-4873-bbf3-5d2cde6b4783"
      },
      "execution_count": null,
      "outputs": [
        {
          "output_type": "stream",
          "name": "stdout",
          "text": [
            "Looking in indexes: https://pypi.org/simple, https://us-python.pkg.dev/colab-wheels/public/simple/\n",
            "Requirement already satisfied: networkx in /usr/local/lib/python3.8/dist-packages (2.8.8)\n"
          ]
        }
      ]
    },
    {
      "cell_type": "code",
      "execution_count": null,
      "metadata": {
        "id": "6aw56I5h_7Q1"
      },
      "outputs": [],
      "source": [
        "# import networkx as nx\n",
        "# import matplotlib.pyplot as plt\n",
        "\n",
        "# G = nx.Graph()\n",
        "# G.add_nodes_from(set(u + v))\n",
        "# G.add_edges_from(zip(u, v))\n",
        "\n",
        "# plt.figure(4, figsize=(14,14)) \n",
        "# nx.draw(G, node_size=0)\n",
        "# plt.show()"
      ]
    },
    {
      "cell_type": "code",
      "execution_count": null,
      "metadata": {
        "colab": {
          "base_uri": "https://localhost:8080/"
        },
        "id": "nEkOpLtqJ6kI",
        "outputId": "a8e096af-5d7f-4e3b-d001-55f30f6d24db"
      },
      "outputs": [
        {
          "output_type": "execute_result",
          "data": {
            "text/plain": [
              "12683"
            ]
          },
          "metadata": {},
          "execution_count": 22
        }
      ],
      "source": [
        "num_nodes"
      ]
    },
    {
      "cell_type": "code",
      "execution_count": null,
      "metadata": {
        "id": "0NmTqvyjwaal"
      },
      "outputs": [],
      "source": [
        "TEST_RATIO = 0.2  # ratio for splitting the test set\n",
        "\n",
        "u, v = g.edges()\n",
        "\n",
        "eids = np.arange(g.number_of_edges())\n",
        "eids = np.random.permutation(eids)\n",
        "test_size = int(len(eids) * TEST_RATIO)  # number of edges in test set\n",
        "train_size = g.number_of_edges() - test_size  # number of edges in train set\n",
        "\n",
        "# get positive edges for test and train\n",
        "test_pos_u, test_pos_v = u[eids[:test_size]], v[eids[:test_size]]\n",
        "train_pos_u, train_pos_v = u[eids[test_size:]], v[eids[test_size:]]\n",
        "\n",
        "# Find all negative edges\n",
        "adj = sp.coo_matrix((np.ones(len(u)), (u.numpy(), v.numpy())), shape=(12683, 12683))\n",
        "adj_neg = 1 - adj.todense() - np.eye(g.number_of_nodes())\n",
        "neg_u, neg_v = np.where(adj_neg != 0)\n",
        "\n",
        "# split the negative edges for training and testing \n",
        "neg_eids = np.random.choice(len(neg_u), g.number_of_edges())\n",
        "test_neg_u, test_neg_v = neg_u[neg_eids[:test_size]], neg_v[neg_eids[:test_size]]\n",
        "train_neg_u, train_neg_v = neg_u[neg_eids[test_size:]], neg_v[neg_eids[test_size:]]\n",
        "\n",
        "# construct positive and negative graphs for training and testing\n",
        "train_pos_g = dgl.graph((train_pos_u, train_pos_v), num_nodes=g.number_of_nodes())\n",
        "train_neg_g = dgl.graph((train_neg_u, train_neg_v), num_nodes=g.number_of_nodes())\n",
        "\n",
        "test_pos_g = dgl.graph((test_pos_u, test_pos_v), num_nodes=g.number_of_nodes())\n",
        "test_neg_g = dgl.graph((test_neg_u, test_neg_v), num_nodes=g.number_of_nodes())\n",
        "\n",
        "# training graph\n",
        "train_g = dgl.remove_edges(g, eids[:test_size])\n",
        "train_g = dgl.add_self_loop(train_g)"
      ]
    },
    {
      "cell_type": "code",
      "execution_count": null,
      "metadata": {
        "id": "ALTEG7DDJ6kI"
      },
      "outputs": [],
      "source": [
        "from dgl.nn import SAGEConv\n",
        "from dgl.nn import GraphConv\n",
        "\n",
        "# ----------- create model -------------- #\n",
        "# build an ordinary GCN model\n",
        "class GCN(nn.Module):\n",
        "    def __init__(self, in_feats, h_feats):\n",
        "        super(GCN, self).__init__()\n",
        "        self.conv1 = GraphConv(in_feats, h_feats)\n",
        "        self.conv2 = GraphConv(h_feats, h_feats)\n",
        "\n",
        "    def forward(self, g, in_feat):\n",
        "        h = self.conv1(g, in_feat)\n",
        "        h = F.relu(h)\n",
        "        h = self.conv2(g, h)\n",
        "        return h\n",
        "\n",
        "\n",
        "# build a two-layer GraphSAGE model\n",
        "class GraphSAGE(nn.Module):\n",
        "    def __init__(self, in_feats, h_feats):\n",
        "        super(GraphSAGE, self).__init__()\n",
        "        self.conv1 = SAGEConv(in_feats, h_feats, 'mean')\n",
        "        self.conv2 = SAGEConv(h_feats, h_feats, 'mean')\n",
        "\n",
        "    def forward(self, g, in_feat):\n",
        "        h = self.conv1(g, in_feat)\n",
        "        h = F.relu(h)\n",
        "        h = self.conv2(g, h)\n",
        "        return h\n",
        "\n",
        "\n",
        "import dgl.function as fn\n",
        "\n",
        "class DotPredictor(nn.Module):\n",
        "    def forward(self, g, h):\n",
        "        with g.local_scope():\n",
        "            g.ndata['h'] = h\n",
        "            # Compute a new edge feature named 'score' by a dot-product between the\n",
        "            # source node feature 'h' and destination node feature 'h'.\n",
        "            g.apply_edges(fn.u_dot_v('h', 'h', 'score'))\n",
        "            # u_dot_v returns a 1-element vector for each edge so you need to squeeze it.\n",
        "            return g.edata['score'][:, 0]\n"
      ]
    },
    {
      "cell_type": "code",
      "execution_count": null,
      "metadata": {
        "id": "dJ0zzrTAJ6kI"
      },
      "outputs": [],
      "source": [
        "def pipeline(model_name='GCN', hidden_size=16):\n",
        "    # model_name can be GCN or SAGE\n",
        "    # hidden_size is the size of the hidden layer in the neural net\n",
        "    if model_name == 'GCN':\n",
        "        model = GCN(train_g.ndata['feat'].shape[1], hidden_size)\n",
        "    elif model_name == 'SAGE':\n",
        "        model = GraphSAGE(train_g.ndata['feat'].shape[1], hidden_size)\n",
        "        \n",
        "    pred = DotPredictor()\n",
        "\n",
        "    def compute_loss(pos_score, neg_score):  # computes the loss based on binary cross entropy\n",
        "        scores = torch.cat([pos_score, neg_score])\n",
        "        labels = torch.cat([torch.ones(pos_score.shape[0]), torch.zeros(neg_score.shape[0])])\n",
        "        return F.binary_cross_entropy_with_logits(scores, labels)\n",
        "\n",
        "    def compute_auc(pos_score, neg_score):  # computes AUC (Area-Under-Curve) score\n",
        "        scores = torch.cat([pos_score, neg_score]).numpy()\n",
        "        labels = torch.cat(\n",
        "            [torch.ones(pos_score.shape[0]), torch.zeros(neg_score.shape[0])]).numpy()\n",
        "        return roc_auc_score(labels, scores)\n",
        "\n",
        "\n",
        "    # ----------- set up loss and optimizer -------------- #\n",
        "    # in this case, loss will in training loop\n",
        "    optimizer = torch.optim.Adam(itertools.chain(model.parameters(), pred.parameters()), lr=0.01)\n",
        "\n",
        "    # ----------- training -------------------------------- #\n",
        "    all_logits = []\n",
        "    for e in range(300):\n",
        "        # forward\n",
        "        h = model(train_g, train_g.ndata['feat'])  # get node embeddings\n",
        "        pos_score = pred(train_pos_g, h)\n",
        "        neg_score = pred(train_neg_g, h)\n",
        "        loss = compute_loss(pos_score, neg_score)\n",
        "\n",
        "        # backward\n",
        "        optimizer.zero_grad()\n",
        "        loss.backward()\n",
        "        optimizer.step()\n",
        "\n",
        "        if e % 5 == 0:\n",
        "            print(f'{e},{loss}')\n",
        "\n",
        "    # ----------- test and check results ---------------- #\n",
        "    from sklearn.metrics import roc_auc_score\n",
        "    with torch.no_grad():\n",
        "        pos_score = pred(test_pos_g, h)\n",
        "        neg_score = pred(test_neg_g, h)\n",
        "        print('AUC', compute_auc(pos_score, neg_score))\n",
        "    \n",
        "    return h  # return node embeddings\n"
      ]
    },
    {
      "cell_type": "code",
      "execution_count": null,
      "metadata": {
        "colab": {
          "base_uri": "https://localhost:8080/"
        },
        "id": "91rK7OKJJ6kI",
        "outputId": "899fa888-43e1-47d5-d6fe-5691294c9faf"
      },
      "outputs": [
        {
          "output_type": "stream",
          "name": "stdout",
          "text": [
            "0,0.5778982639312744\n",
            "5,0.493759423494339\n",
            "10,0.49028918147087097\n",
            "15,0.48607325553894043\n",
            "20,0.4837704598903656\n",
            "25,0.48188066482543945\n",
            "30,0.4804133474826813\n",
            "35,0.4801752269268036\n",
            "40,0.47900819778442383\n",
            "45,0.4789379835128784\n",
            "50,0.47832784056663513\n",
            "55,0.47802790999412537\n",
            "60,0.4777248501777649\n",
            "65,0.47734150290489197\n",
            "70,0.47707244753837585\n",
            "75,0.47683483362197876\n",
            "80,0.4765627682209015\n",
            "85,0.47623154520988464\n",
            "90,0.47569647431373596\n",
            "95,0.47443583607673645\n",
            "100,0.4732246398925781\n",
            "105,0.4722675085067749\n",
            "110,0.4706793427467346\n",
            "115,0.46883755922317505\n",
            "120,0.4665389955043793\n",
            "125,0.4638329744338989\n",
            "130,0.4607032537460327\n",
            "135,0.45722079277038574\n",
            "140,0.4533700942993164\n",
            "145,0.44966620206832886\n",
            "150,0.44634783267974854\n",
            "155,0.443644642829895\n",
            "160,0.4417833089828491\n",
            "165,0.44074198603630066\n",
            "170,0.44030576944351196\n",
            "175,0.4400344789028168\n",
            "180,0.43985095620155334\n",
            "185,0.4396888315677643\n",
            "190,0.4395139217376709\n",
            "195,0.43935173749923706\n",
            "200,0.43920621275901794\n",
            "205,0.4390580952167511\n",
            "210,0.43891778588294983\n",
            "215,0.43876132369041443\n",
            "220,0.4386063814163208\n",
            "225,0.43843647837638855\n",
            "230,0.438264936208725\n",
            "235,0.43807461857795715\n",
            "240,0.43786874413490295\n",
            "245,0.4376393258571625\n",
            "250,0.43740278482437134\n",
            "255,0.4371228516101837\n",
            "260,0.4367990791797638\n",
            "265,0.4364609718322754\n",
            "270,0.43606120347976685\n",
            "275,0.43561509251594543\n",
            "280,0.43515586853027344\n",
            "285,0.43470653891563416\n",
            "290,0.4342998266220093\n",
            "295,0.43393588066101074\n",
            "AUC 0.9664151548523725\n"
          ]
        }
      ],
      "source": [
        "h = pipeline(\"GCN\")"
      ]
    },
    {
      "cell_type": "code",
      "execution_count": null,
      "metadata": {
        "colab": {
          "base_uri": "https://localhost:8080/"
        },
        "id": "b4d8y4ZMJ6kJ",
        "outputId": "c5f61209-6499-4dd7-877d-cdd3a5dab1e0"
      },
      "outputs": [
        {
          "output_type": "stream",
          "name": "stdout",
          "text": [
            "0,1.4096324443817139\n",
            "5,0.729232907295227\n",
            "10,0.6928471326828003\n",
            "15,0.6818873286247253\n",
            "20,0.6675664782524109\n",
            "25,0.6545252203941345\n",
            "30,0.6397343277931213\n",
            "35,0.6249663233757019\n",
            "40,0.6091164350509644\n",
            "45,0.5937596559524536\n",
            "50,0.5805569291114807\n",
            "55,0.5682660937309265\n",
            "60,0.5572195649147034\n",
            "65,0.5475687980651855\n",
            "70,0.539520800113678\n",
            "75,0.5327664017677307\n",
            "80,0.5274065136909485\n",
            "85,0.5229986310005188\n",
            "90,0.5193445086479187\n",
            "95,0.5162317752838135\n",
            "100,0.5140976309776306\n",
            "105,0.5119513869285583\n",
            "110,0.5099738240242004\n",
            "115,0.5082497000694275\n",
            "120,0.5067933201789856\n",
            "125,0.5056087374687195\n",
            "130,0.5042562484741211\n",
            "135,0.5033745765686035\n",
            "140,0.5020501017570496\n",
            "145,0.5015342831611633\n",
            "150,0.5002395510673523\n",
            "155,0.4999537467956543\n",
            "160,0.49897825717926025\n",
            "165,0.4979296326637268\n",
            "170,0.4973450303077698\n",
            "175,0.49670302867889404\n",
            "180,0.4960085451602936\n",
            "185,0.4954429268836975\n",
            "190,0.4946777820587158\n",
            "195,0.49409741163253784\n",
            "200,0.493495911359787\n",
            "205,0.4928859770298004\n",
            "210,0.4922723174095154\n",
            "215,0.4917011559009552\n",
            "220,0.49119821190834045\n",
            "225,0.4905986189842224\n",
            "230,0.4900963008403778\n",
            "235,0.4929158389568329\n",
            "240,0.4910479187965393\n",
            "245,0.48994702100753784\n",
            "250,0.48875460028648376\n",
            "255,0.4884416162967682\n",
            "260,0.48768433928489685\n",
            "265,0.4873615503311157\n",
            "270,0.4869254231452942\n",
            "275,0.48656418919563293\n",
            "280,0.48626211285591125\n",
            "285,0.48592549562454224\n",
            "290,0.4855993688106537\n",
            "295,0.4852854609489441\n",
            "AUC 0.9821887935551192\n"
          ]
        }
      ],
      "source": [
        "h = pipeline(\"SAGE\")"
      ]
    },
    {
      "cell_type": "code",
      "execution_count": null,
      "metadata": {
        "id": "_YEQvTq1J6kJ"
      },
      "outputs": [],
      "source": [
        "# --------- generate recommendation for user -------- #\n",
        "def generate_rec(h, profile_label=0, k=50):\n",
        "    # `h` represents the node embeddings, with shape [num_nodes, hidden_size]\n",
        "\n",
        "    # generate a graph with (num_nodes - num_friends_of_user) edges\n",
        "    # one end of the edge is profile_id\n",
        "    # the other end is a user that's NOT friends with profile_id\n",
        "    user_friends = set()\n",
        "    user_neg_u, user_neg_v = [], []\n",
        "    for n1, n2 in zip(u, v):   # get all friends of profile_id\n",
        "        if int(n1) == profile_label:\n",
        "            user_friends.add(int(n2))\n",
        "        if int(n2) == profile_label:\n",
        "            user_friends.add(int(n1))\n",
        "\n",
        "    for i in range(num_nodes):  # generate \"negative edges\" for profile_id\n",
        "        if i != profile_label and i not in user_friends:\n",
        "            user_neg_u.append(profile_label)\n",
        "            user_neg_v.append(i)\n",
        "            \n",
        "    user_g = dgl.graph((user_neg_u, user_neg_v), num_nodes=g.number_of_nodes())\n",
        "\n",
        "    pred = DotPredictor()\n",
        "\n",
        "    # calculate the score of each user\n",
        "    scores = [(i, score) for i, score in enumerate(pred(user_g, h))]\n",
        "\n",
        "    # produce final ranked list\n",
        "    scores.sort(key=lambda x: -x[1])\n",
        "\n",
        "    # display results\n",
        "    print(f\"List of suggested friends for profile_label {profile_label}:\")\n",
        "    for i in range(k):\n",
        "        candidate = live_editor.get(idx_to_node[scores[i][0]]['profile_id'])\n",
        "        if candidate:\n",
        "            print(f\"- profile_label {scores[i][0]}, profile_id {idx_to_node[scores[i][0]]['profile_id']}, score = {round(float(scores[i][1]), 4)}\")\n",
        "        else:\n",
        "            pass\n"
      ]
    },
    {
      "cell_type": "code",
      "execution_count": null,
      "metadata": {
        "colab": {
          "base_uri": "https://localhost:8080/"
        },
        "id": "nWy4Y4eWJ6kJ",
        "outputId": "f9434c80-be79-4915-b2d8-d0ba66377179"
      },
      "outputs": [
        {
          "output_type": "stream",
          "name": "stdout",
          "text": [
            "List of suggested friends for profile_label 14:\n",
            "- profile_label 8412, profile_id 1285573, score = 2.3741\n",
            "- profile_label 8078, profile_id 1114, score = 2.32\n",
            "- profile_label 2816, profile_id 1018, score = 2.0391\n",
            "- profile_label 8084, profile_id 765, score = 2.0304\n",
            "- profile_label 4577, profile_id 678014, score = 2.0132\n",
            "- profile_label 1763, profile_id 801, score = 1.9104\n",
            "- profile_label 6685, profile_id 778, score = 1.855\n",
            "- profile_label 6363, profile_id 868861, score = 1.847\n",
            "- profile_label 5318, profile_id 354457, score = 1.8236\n",
            "- profile_label 7371, profile_id 833082, score = 1.8236\n",
            "- profile_label 9853, profile_id 1034, score = 1.8236\n",
            "- profile_label 1045, profile_id 810, score = 1.8117\n",
            "- profile_label 11653, profile_id 908, score = 1.8043\n",
            "- profile_label 2455, profile_id 504658, score = 1.7952\n",
            "- profile_label 3890, profile_id 977, score = 1.7921\n",
            "- profile_label 2858, profile_id 917, score = 1.791\n",
            "- profile_label 4240, profile_id 950, score = 1.7652\n",
            "- profile_label 2454, profile_id 1459303, score = 1.7516\n"
          ]
        }
      ],
      "source": [
        "generate_rec(h, profile_label=14, k=100)"
      ]
    },
    {
      "cell_type": "code",
      "execution_count": null,
      "metadata": {
        "colab": {
          "base_uri": "https://localhost:8080/"
        },
        "id": "rZPlR09lJ6kJ",
        "outputId": "f3701dfd-7ec4-41b8-f4ac-25768838f7e9"
      },
      "outputs": [
        {
          "output_type": "execute_result",
          "data": {
            "text/plain": [
              "{'profile_id': 1285573, 'user_account_id': 824639, 'age': 20}"
            ]
          },
          "metadata": {},
          "execution_count": 42
        }
      ],
      "source": [
        "idx_to_node[8412]"
      ]
    },
    {
      "cell_type": "code",
      "execution_count": null,
      "metadata": {
        "colab": {
          "base_uri": "https://localhost:8080/"
        },
        "id": "UAnYF2H1J6kJ",
        "outputId": "cae9842f-cfa2-4c4e-c588-446832dca03f"
      },
      "outputs": [
        {
          "output_type": "stream",
          "name": "stderr",
          "text": [
            "/usr/local/lib/python3.8/dist-packages/sklearn/manifold/_t_sne.py:780: FutureWarning: The default initialization in TSNE will change from 'random' to 'pca' in 1.2.\n",
            "  warnings.warn(\n",
            "/usr/local/lib/python3.8/dist-packages/sklearn/manifold/_t_sne.py:790: FutureWarning: The default learning rate in TSNE will change from 200.0 to 'auto' in 1.2.\n",
            "  warnings.warn(\n"
          ]
        }
      ],
      "source": [
        "import matplotlib.pyplot as plt\n",
        "from sklearn.manifold import TSNE\n",
        "\n",
        "tsne_np = TSNE(n_components = 3).fit_transform(h.cpu().detach().numpy())"
      ]
    },
    {
      "cell_type": "code",
      "execution_count": null,
      "metadata": {
        "id": "F7rvgh4bJ6kJ"
      },
      "outputs": [],
      "source": [
        "tsne_df = pd.DataFrame(tsne_np, columns = ['component 0', 'component 1', 'component 2'])"
      ]
    },
    {
      "cell_type": "code",
      "execution_count": null,
      "metadata": {
        "id": "1mnqqh14J6kJ"
      },
      "outputs": [],
      "source": [
        "tsne_df['target'] = node_df['age']"
      ]
    },
    {
      "cell_type": "code",
      "execution_count": null,
      "metadata": {
        "id": "fWxj8rHvJ6kJ"
      },
      "outputs": [],
      "source": [
        "def remove_max_outlier(dataset, col):\n",
        "    q1 = dataset[col].quantile(0.25)\n",
        "    q2 = dataset[col].quantile(0.5)\n",
        "    q3 = dataset[col].quantile(0.75)\n",
        "    iqr = q3 - q1\n",
        "\n",
        "    condition = dataset[col] > q3 + 1.5 * iqr\n",
        "    dataset[condition]\n",
        "    \n",
        "    idx = dataset[condition].index\n",
        "    dataset.drop(idx, inplace=True)\n",
        "    dataset.reset_index(drop=True, inplace=True)\n",
        "    \n",
        "    return dataset"
      ]
    },
    {
      "cell_type": "code",
      "execution_count": null,
      "metadata": {
        "id": "n9EDbseAJ6kJ"
      },
      "outputs": [],
      "source": [
        "def remove_min_outlier(dataset, col):\n",
        "    q1 = dataset[col].quantile(0.25)\n",
        "    q2 = dataset[col].quantile(0.5)\n",
        "    q3 = dataset[col].quantile(0.75)\n",
        "    iqr = q3 - q1\n",
        "\n",
        "    condition = dataset[col] < q1 - 1.5 * iqr\n",
        "    dataset[condition]\n",
        "    \n",
        "    idx = dataset[condition].index\n",
        "    dataset.drop(idx, inplace=True)\n",
        "    dataset.reset_index(drop=True, inplace=True)\n",
        "    \n",
        "    return dataset"
      ]
    },
    {
      "cell_type": "code",
      "execution_count": null,
      "metadata": {
        "id": "I8eiIZxrJ6kJ"
      },
      "outputs": [],
      "source": [
        "tsne_df = remove_max_outlier(tsne_df, 'component 0')\n",
        "tsne_df = remove_max_outlier(tsne_df, 'component 1')\n",
        "tsne_df = remove_max_outlier(tsne_df, 'component 2')"
      ]
    },
    {
      "cell_type": "code",
      "execution_count": null,
      "metadata": {
        "id": "D8WrFAJ7J6kJ"
      },
      "outputs": [],
      "source": [
        "tsne_df = remove_min_outlier(tsne_df, 'component 0')\n",
        "tsne_df = remove_min_outlier(tsne_df, 'component 1')\n",
        "tsne_df = remove_min_outlier(tsne_df, 'component 2')"
      ]
    },
    {
      "cell_type": "code",
      "execution_count": null,
      "metadata": {
        "colab": {
          "base_uri": "https://localhost:8080/",
          "height": 852
        },
        "id": "iBrUs69cJ6kJ",
        "outputId": "0a2d2a5a-3282-4c7d-bd60-f1add22829a7"
      },
      "outputs": [
        {
          "output_type": "display_data",
          "data": {
            "text/plain": [
              "<Figure size 1296x1296 with 1 Axes>"
            ],
            "image/png": "[encoded data removed]"
          },
          "metadata": {}
        },
        {
          "output_type": "display_data",
          "data": {
            "text/plain": [
              "<Figure size 432x288 with 0 Axes>"
            ]
          },
          "metadata": {}
        }
      ],
      "source": [
        "# 3차원 그래프 세팅\n",
        "fig = plt.figure(figsize=(18, 18))\n",
        "ax = plt.axes(projection='3d')\n",
        "\n",
        "# target 별 분리\n",
        "tsne_df_0 = tsne_df[tsne_df['target'] == 10][:1000]\n",
        "tsne_df_1 = tsne_df[tsne_df['target'] == 20][:300]\n",
        "tsne_df_2 = tsne_df[tsne_df['target'] == 30][:1000]\n",
        "\n",
        "# target 별 시각화\n",
        "ax.scatter(tsne_df_0['component 0'], tsne_df_0['component 1'], tsne_df_0['component 2'], color = 'aquamarine', label = 'age10')\n",
        "ax.scatter(tsne_df_1['component 0'], tsne_df_1['component 1'], tsne_df_1['component 2'], color = 'steelblue', label = 'age20')\n",
        "ax.scatter(tsne_df_2['component 0'], tsne_df_2['component 1'], tsne_df_2['component 2'], color = 'hotpink', label = 'age30')\n",
        "\n",
        "fig.set_facecolor('black')\n",
        "ax.set_facecolor('black') \n",
        "ax.grid(False) \n",
        "ax.w_xaxis.pane.fill = False\n",
        "ax.w_yaxis.pane.fill = False\n",
        "ax.w_zaxis.pane.fill = False\n",
        "\n",
        "ax.set_xlabel('component 0')\n",
        "ax.set_ylabel('component 1')\n",
        "ax.set_zlabel('component 2')\n",
        "ax.legend()\n",
        "plt.show()\n",
        "plt.savefig('/content/drive/MyDrive/Style_Week/tsne.jpg')"
      ]
    },
    {
      "cell_type": "code",
      "source": [
        "# Graph visualization\n",
        "\n",
        "from pyvis.network import Network\n",
        "\n",
        "net= Network(notebook=True, bgcolor='#000000') # 백그라운드 색 설정 \n",
        "\n",
        "from_id = list(follows_check['from_profile_id'])\n",
        "to_id = list(follows_check['to_profile_id'])\n",
        "\n",
        "edges = []\n",
        "for i in range(len(follows_check)):\n",
        "    from_check = from_id[i]\n",
        "    to_check = to_id[i]\n",
        "\n",
        "    if to_check in to_profile_dict: # 팔로워 수에 따른 색깔 변경 \n",
        "        color = to_profile_dict[to_check] # dict에서 value (= 팔로워 수)\n",
        "        \n",
        "        if color >= 20:\n",
        "            net.add_node(to_check, label=to_id, size=70, color='#fe9923')\n",
        "        elif color >=10:\n",
        "            net.add_node(to_check, label=to_id, size=60, color='#ffa943')\n",
        "        elif color >=5:\n",
        "            net.add_node(to_check, label=to_id, size=40, color='#ffcd40')\n",
        "        elif color >=3:\n",
        "            net.add_node(to_check, label=to_id, color='#fed42d')\n",
        "        else:\n",
        "            net.add_node(to_check, label=to_id, color='#fff066')\n",
        "    \n",
        "    pair = (from_check, to_check)\n",
        "    edges.append(pair)\n",
        "    \n",
        "    net.add_node(from_check, label=from_id, color='fff066')\n",
        "\n",
        "net.add_edges(edges)\n",
        "\n",
        "net.toggle_physics(True)\n",
        "net.show('nodes.html')"
      ],
      "metadata": {
        "id": "Vdu9JcRfw8r3"
      },
      "execution_count": null,
      "outputs": []
    }
  ],
  "metadata": {
    "colab": {
      "provenance": [],
      "include_colab_link": true
    },
    "kernelspec": {
      "display_name": "Python 3 (PyTorch 1.8 Python 3.6 CPU Optimized)",
      "language": "python",
      "name": "python3__SAGEMAKER_INTERNAL__arn:aws:sagemaker:ap-northeast-2:806072073708:image/1.8.1-cpu-py36"
    },
    "language_info": {
      "codemirror_mode": {
        "name": "ipython",
        "version": 3
      },
      "file_extension": ".py",
      "mimetype": "text/x-python",
      "name": "python",
      "nbconvert_exporter": "python",
      "pygments_lexer": "ipython3",
      "version": "3.6.13"
    }
  },
  "nbformat": 4,
  "nbformat_minor": 0
}